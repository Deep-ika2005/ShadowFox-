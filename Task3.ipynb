{
 "cells": [
  {
   "cell_type": "code",
   "execution_count": 1,
   "id": "0a45b263-533f-4456-a690-72d3c58bee1f",
   "metadata": {},
   "outputs": [
    {
     "name": "stdout",
     "output_type": "stream",
     "text": [
      "\n",
      "Rilee russouw's Fielding Performance:\n",
      " - Catch (Successful): 2\n",
      " - Catch (Missed): 1\n",
      "\n",
      "Phil Salt's Fielding Performance:\n",
      " - Run-out (Missed): 1\n",
      " - Boundary Save (Missed): 1\n",
      " - Run-out (Successful): 1\n",
      "\n",
      "Yash Dhull's Fielding Performance:\n",
      " - Boundary Save (Successful): 1\n",
      " - Run-out (Successful): 1\n",
      " - Boundary Save (Missed): 1\n",
      "\n",
      "Fielding performance data has been exported to 'fielding_performance.csv'.\n"
     ]
    }
   ],
   "source": [
    "import csv\n",
    "from collections import defaultdict\n",
    "\n",
    "fielding_data = [\n",
    "    {\"ball\": \"1.1\", \"player\": \"Rilee russouw\", \"action\": \"Catch\", \"outcome\": \"Successful\", \"position\": \"Slip\"},\n",
    "    {\"ball\": \"1.2\", \"player\": \"Phil Salt\", \"action\": \"Run-out\", \"outcome\": \"Missed\", \"position\": \"Point\"},\n",
    "    {\"ball\": \"1.3\", \"player\": \"Yash Dhull\", \"action\": \"Boundary Save\", \"outcome\": \"Successful\", \"position\": \"Long-off\"},\n",
    "    {\"ball\": \"2.1\", \"player\": \"Rilee russouw\", \"action\": \"Catch\", \"outcome\": \"Missed\", \"position\": \"Slip\"},\n",
    "    {\"ball\": \"2.2\", \"player\": \"Phil Salt\", \"action\": \"Boundary Save\", \"outcome\": \"Missed\", \"position\": \"Cover\"},\n",
    "    {\"ball\": \"2.3\", \"player\": \"Yash Dhull\", \"action\": \"Run-out\", \"outcome\": \"Successful\", \"position\": \"Mid-wicket\"},\n",
    "    {\"ball\": \"3.1\", \"player\": \"Rilee russouw\", \"action\": \"Catch\", \"outcome\": \"Successful\", \"position\": \"Slip\"},\n",
    "    {\"ball\": \"3.2\", \"player\": \"Phil Salt\", \"action\": \"Run-out\", \"outcome\": \"Successful\", \"position\": \"Point\"},\n",
    "    {\"ball\": \"3.3\", \"player\": \"Yash Dhull\", \"action\": \"Boundary Save\", \"outcome\": \"Missed\", \"position\": \"Long-off\"},\n",
    "]\n",
    "def analyze_fielding(data):\n",
    "    player_stats = defaultdict(lambda: defaultdict(int))\n",
    "    \n",
    "    for entry in data:\n",
    "        player = entry[\"player\"]\n",
    "        action = entry[\"action\"]\n",
    "        outcome = entry[\"outcome\"]\n",
    "        player_stats[player][f\"{action}_{outcome}\"] += 1\n",
    "    \n",
    "    return player_stats\n",
    "fielding_stats = analyze_fielding(fielding_data)\n",
    "\n",
    "for player, stats in fielding_stats.items():\n",
    "    print(f\"\\n{player}'s Fielding Performance:\")\n",
    "    for key, value in stats.items():\n",
    "        action, outcome = key.split('_')\n",
    "        print(f\" - {action} ({outcome}): {value}\")\n",
    "\n",
    "def export_to_csv(data, filename=\"fielding_performance.csv\"):\n",
    "    with open(filename, mode='w', newline='', encoding='utf-8') as file:\n",
    "        writer = csv.writer(file)\n",
    "        writer.writerow([\"Player\", \"Action\", \"Successful\", \"Missed\"])\n",
    "        for player, stats in data.items():\n",
    "            row = [player]\n",
    "            for action in [\"Catch\", \"Run-out\", \"Boundary Save\"]:\n",
    "                row.append(stats.get(f\"{action}_Successful\", 0))\n",
    "                row.append(stats.get(f\"{action}_Missed\", 0))\n",
    "            writer.writerow(row)\n",
    "export_to_csv(fielding_stats)\n",
    "\n",
    "print(\"\\nFielding performance data has been exported to 'fielding_performance.csv'.\")\n"
   ]
  },
  {
   "cell_type": "code",
   "execution_count": null,
   "id": "b25b8182-55d3-4903-81da-24e7ed36c86a",
   "metadata": {},
   "outputs": [],
   "source": []
  }
 ],
 "metadata": {
  "kernelspec": {
   "display_name": "Python 3 (ipykernel)",
   "language": "python",
   "name": "python3"
  },
  "language_info": {
   "codemirror_mode": {
    "name": "ipython",
    "version": 3
   },
   "file_extension": ".py",
   "mimetype": "text/x-python",
   "name": "python",
   "nbconvert_exporter": "python",
   "pygments_lexer": "ipython3",
   "version": "3.12.4"
  }
 },
 "nbformat": 4,
 "nbformat_minor": 5
}
