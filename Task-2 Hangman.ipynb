{
 "cells": [
  {
   "cell_type": "code",
   "execution_count": 1,
   "id": "bd12306d-62e8-46db-abc5-01d5750f18f9",
   "metadata": {},
   "outputs": [
    {
     "name": "stdout",
     "output_type": "stream",
     "text": [
      "\n",
      "          -----\n",
      "          |   |\n",
      "          |\n",
      "          |\n",
      "          |\n",
      "          |\n",
      "        --------\n",
      "        \n",
      "Word: _ _ _ _ _ _\n",
      "Incorrect guesses: \n"
     ]
    },
    {
     "name": "stdin",
     "output_type": "stream",
     "text": [
      "Guess a letter:  t\n"
     ]
    },
    {
     "name": "stdout",
     "output_type": "stream",
     "text": [
      "\n",
      "          -----\n",
      "          |   |\n",
      "          |\n",
      "          |\n",
      "          |\n",
      "          |\n",
      "        --------\n",
      "        \n",
      "Word: _ _ t _ _ _\n",
      "Incorrect guesses: \n"
     ]
    },
    {
     "name": "stdin",
     "output_type": "stream",
     "text": [
      "Guess a letter:  o\n"
     ]
    },
    {
     "name": "stdout",
     "output_type": "stream",
     "text": [
      "\n",
      "          -----\n",
      "          |   |\n",
      "          |\n",
      "          |\n",
      "          |\n",
      "          |\n",
      "        --------\n",
      "        \n",
      "Word: _ o t _ _ _\n",
      "Incorrect guesses: \n"
     ]
    },
    {
     "name": "stdin",
     "output_type": "stream",
     "text": [
      "Guess a letter:  h\n"
     ]
    },
    {
     "name": "stdout",
     "output_type": "stream",
     "text": [
      "\n",
      "          -----\n",
      "          |   |\n",
      "          |   O\n",
      "          |\n",
      "          |\n",
      "          |\n",
      "        --------\n",
      "        \n",
      "Word: _ o t _ _ _\n",
      "Incorrect guesses: h\n"
     ]
    },
    {
     "name": "stdin",
     "output_type": "stream",
     "text": [
      "Guess a letter:  l\n"
     ]
    },
    {
     "name": "stdout",
     "output_type": "stream",
     "text": [
      "\n",
      "          -----\n",
      "          |   |\n",
      "          |   O\n",
      "          |\n",
      "          |\n",
      "          |\n",
      "        --------\n",
      "        \n",
      "Word: _ o t l _ _\n",
      "Incorrect guesses: h\n"
     ]
    },
    {
     "name": "stdin",
     "output_type": "stream",
     "text": [
      "Guess a letter:  i\n"
     ]
    },
    {
     "name": "stdout",
     "output_type": "stream",
     "text": [
      "\n",
      "          -----\n",
      "          |   |\n",
      "          |   O\n",
      "          |\n",
      "          |\n",
      "          |\n",
      "        --------\n",
      "        \n",
      "Word: _ o t l i _\n",
      "Incorrect guesses: h\n"
     ]
    },
    {
     "name": "stdin",
     "output_type": "stream",
     "text": [
      "Guess a letter:  n\n"
     ]
    },
    {
     "name": "stdout",
     "output_type": "stream",
     "text": [
      "\n",
      "          -----\n",
      "          |   |\n",
      "          |   O\n",
      "          |\n",
      "          |\n",
      "          |\n",
      "        --------\n",
      "        \n",
      "Word: _ o t l i n\n",
      "Incorrect guesses: h\n"
     ]
    },
    {
     "name": "stdin",
     "output_type": "stream",
     "text": [
      "Guess a letter:  k\n"
     ]
    },
    {
     "name": "stdout",
     "output_type": "stream",
     "text": [
      "\n",
      "          -----\n",
      "          |   |\n",
      "          |   O\n",
      "          |\n",
      "          |\n",
      "          |\n",
      "        --------\n",
      "        \n",
      "Word: k o t l i n\n",
      "Incorrect guesses: h\n",
      "Congratulations! You've won!\n"
     ]
    },
    {
     "name": "stdin",
     "output_type": "stream",
     "text": [
      "Do you want to play again? (y/n):  n\n"
     ]
    },
    {
     "name": "stdout",
     "output_type": "stream",
     "text": [
      "Thank you for playing Hangman!\n"
     ]
    }
   ],
   "source": [
    "import random\n",
    "\n",
    "def choose_word():\n",
    "    \n",
    "    word_list = ['python', 'java', 'kotlin', 'javascript', 'hangman', 'computer', 'artificial']\n",
    "    return random.choice(word_list)\n",
    "\n",
    "def initialize_game(word):\n",
    "    \n",
    "    guessed_letters = []\n",
    "    incorrect_guesses = []\n",
    "    max_attempts = 6\n",
    "    word_display = ['_' for _ in word]\n",
    "    return guessed_letters, incorrect_guesses, max_attempts, word_display\n",
    "\n",
    "def display_interface(incorrect_guesses, word_display):\n",
    "\n",
    "    hangman_stages = [\n",
    "        \"\"\"\n",
    "          -----\n",
    "          |   |\n",
    "          |\n",
    "          |\n",
    "          |\n",
    "          |\n",
    "        --------\n",
    "        \"\"\",\n",
    "        \"\"\"\n",
    "          -----\n",
    "          |   |\n",
    "          |   O\n",
    "          |\n",
    "          |\n",
    "          |\n",
    "        --------\n",
    "        \"\"\",\n",
    "        \"\"\"\n",
    "          -----\n",
    "          |   |\n",
    "          |   O\n",
    "          |   |\n",
    "          |\n",
    "          |\n",
    "        --------\n",
    "        \"\"\",\n",
    "        \"\"\"\n",
    "          -----\n",
    "          |   |\n",
    "          |   O\n",
    "          |  /|\n",
    "          |\n",
    "          |\n",
    "        --------\n",
    "        \"\"\",\n",
    "        \"\"\"\n",
    "          -----\n",
    "          |   |\n",
    "          |   O\n",
    "          |  /|\\\\\n",
    "          |\n",
    "          |\n",
    "        --------\n",
    "        \"\"\",\n",
    "        \"\"\"\n",
    "          -----\n",
    "          |   |\n",
    "          |   O\n",
    "          |  /|\\\\\n",
    "          |  /\n",
    "          |\n",
    "        --------\n",
    "        \"\"\",\n",
    "        \"\"\"\n",
    "          -----\n",
    "          |   |\n",
    "          |   O\n",
    "          |  /|\\\\\n",
    "          |  / \\\\\n",
    "          |\n",
    "        --------\n",
    "        \"\"\"\n",
    "    ]\n",
    "    \n",
    "    print(hangman_stages[len(incorrect_guesses)])\n",
    "    print(\"Word:\", \" \".join(word_display))\n",
    "    print(\"Incorrect guesses:\", \", \".join(incorrect_guesses))\n",
    "\n",
    "def get_user_input(guessed_letters):\n",
    "    \n",
    "    while True:\n",
    "        guess = input(\"Guess a letter: \").lower()\n",
    "        if len(guess) != 1 or not guess.isalpha():\n",
    "            print(\"Invalid input. Please enter a single letter.\")\n",
    "        elif guess in guessed_letters:\n",
    "            print(\"You have already guessed that letter. Try again.\")\n",
    "        else:\n",
    "            return guess\n",
    "\n",
    "def check_guess(guess, word, word_display, incorrect_guesses):\n",
    "    \n",
    "    if guess in word:\n",
    "        for i, letter in enumerate(word):\n",
    "            if letter == guess:\n",
    "                word_display[i] = guess\n",
    "    else:\n",
    "        incorrect_guesses.append(guess)\n",
    "\n",
    "def check_win_loss(word_display, incorrect_guesses, max_attempts):\n",
    "    \n",
    "    if \"_\" not in word_display:\n",
    "        return \"win\"\n",
    "    elif len(incorrect_guesses) >= max_attempts:\n",
    "        return \"lose\"\n",
    "    return None\n",
    "\n",
    "def game_loop():\n",
    "    word = choose_word()\n",
    "    guessed_letters, incorrect_guesses, max_attempts, word_display = initialize_game(word)\n",
    "\n",
    "    while True:\n",
    "        display_interface(incorrect_guesses, word_display)\n",
    "        guess = get_user_input(guessed_letters)\n",
    "        guessed_letters.append(guess)\n",
    "        check_guess(guess, word, word_display, incorrect_guesses)\n",
    "\n",
    "        result = check_win_loss(word_display, incorrect_guesses, max_attempts)\n",
    "        if result:\n",
    "            display_interface(incorrect_guesses, word_display)\n",
    "            if result == \"win\":\n",
    "                print(\"Congratulations! You've won!\")\n",
    "            else:\n",
    "                print(\"You've lost! The word was:\", word)\n",
    "            break\n",
    "\n",
    "def play_again():\n",
    "    \n",
    "    while True:\n",
    "        choice = input(\"Do you want to play again? (y/n): \").lower()\n",
    "        if choice == 'y':\n",
    "            return True\n",
    "        elif choice == 'n':\n",
    "            return False\n",
    "        else:\n",
    "            print(\"Invalid choice. Please enter 'y' or 'n'.\")\n",
    "\n",
    "def main():\n",
    "    \n",
    "    while True:\n",
    "        game_loop()\n",
    "        if not play_again():\n",
    "            print(\"Thank you for playing Hangman!\")\n",
    "            break\n",
    "\n",
    "if __name__ == \"__main__\":\n",
    "    main()\n",
    "\n",
    "\n"
   ]
  },
  {
   "cell_type": "code",
   "execution_count": null,
   "id": "2511b0ae-d4ff-4ead-adb0-9592588bddde",
   "metadata": {},
   "outputs": [],
   "source": []
  }
 ],
 "metadata": {
  "kernelspec": {
   "display_name": "Python 3 (ipykernel)",
   "language": "python",
   "name": "python3"
  },
  "language_info": {
   "codemirror_mode": {
    "name": "ipython",
    "version": 3
   },
   "file_extension": ".py",
   "mimetype": "text/x-python",
   "name": "python",
   "nbconvert_exporter": "python",
   "pygments_lexer": "ipython3",
   "version": "3.12.4"
  }
 },
 "nbformat": 4,
 "nbformat_minor": 5
}
