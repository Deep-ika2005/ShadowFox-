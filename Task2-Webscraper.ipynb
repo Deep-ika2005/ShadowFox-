{
 "cells": [
  {
   "cell_type": "code",
   "execution_count": 7,
   "id": "84071009-58b3-4eec-8c23-db792009e699",
   "metadata": {},
   "outputs": [],
   "source": [
    "import requests\n",
    "from bs4 import BeautifulSoup\n",
    "\n",
    "urls = 'https://www.geeksforgeeks.org/'\n",
    "grab = requests.get(urls)\n",
    "soup = BeautifulSoup(grab.text, 'html.parser')\n",
    "\n",
    "# opening a file in write mode\n",
    "f = open(\"test1.txt\", \"w\")\n",
    "# traverse paragraphs from soup\n",
    "for link in soup.find_all(\"a\"):\n",
    "    data = link.get('href')\n",
    "    f.write(data)\n",
    "    f.write(\"\\n\")\n",
    "    \n",
    "\n",
    "f.close()\n"
   ]
  },
  {
   "cell_type": "code",
   "execution_count": null,
   "id": "d90b9c97-7b61-4462-a2be-561ead34fbac",
   "metadata": {},
   "outputs": [],
   "source": []
  }
 ],
 "metadata": {
  "kernelspec": {
   "display_name": "Python 3 (ipykernel)",
   "language": "python",
   "name": "python3"
  },
  "language_info": {
   "codemirror_mode": {
    "name": "ipython",
    "version": 3
   },
   "file_extension": ".py",
   "mimetype": "text/x-python",
   "name": "python",
   "nbconvert_exporter": "python",
   "pygments_lexer": "ipython3",
   "version": "3.12.4"
  }
 },
 "nbformat": 4,
 "nbformat_minor": 5
}
